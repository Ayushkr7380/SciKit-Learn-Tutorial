{
 "cells": [
  {
   "cell_type": "markdown",
   "id": "b978b8f1-ea4b-487f-a628-0c26bf24e858",
   "metadata": {},
   "source": [
    "Scikit-Learn Buildin Datasets"
   ]
  },
  {
   "cell_type": "code",
   "execution_count": null,
   "id": "67fd7285-58e7-41bd-aaab-d2eeb92715e4",
   "metadata": {},
   "outputs": [],
   "source": [
    "from sklearn import datasets"
   ]
  },
  {
   "cell_type": "code",
   "execution_count": 32,
   "id": "1c6ba7be-2b24-4f0d-8757-2301224a7ea5",
   "metadata": {},
   "outputs": [],
   "source": [
    "breast = datasets.load_breast_cancer()"
   ]
  },
  {
   "cell_type": "code",
   "execution_count": null,
   "id": "142d5e30-c4f7-4920-9f78-c63feb11bb4f",
   "metadata": {},
   "outputs": [],
   "source": [
    "x, y = datasets.load_iris(return_X_y = True)\n",
    "print(x.shape)\n",
    "print(y.shape)\n"
   ]
  },
  {
   "cell_type": "markdown",
   "id": "fcbfba62-ced4-4d71-8adb-e6404d6dc3a6",
   "metadata": {},
   "source": [
    "Train Test Split"
   ]
  },
  {
   "cell_type": "code",
   "execution_count": null,
   "id": "998aac8f-0d73-46ce-8dc5-70d4b98f6ef4",
   "metadata": {},
   "outputs": [],
   "source": [
    "import pandas as pd"
   ]
  },
  {
   "cell_type": "code",
   "execution_count": null,
   "id": "b224871f-3647-459d-8904-a8c746b05221",
   "metadata": {},
   "outputs": [],
   "source": [
    "df = pd.read_csv(\"CAR_DETAILS_FROM_CAR_DEKHO.csv\")"
   ]
  },
  {
   "cell_type": "code",
   "execution_count": null,
   "id": "6da48669-342f-4e81-a3ea-99c90935127f",
   "metadata": {},
   "outputs": [],
   "source": [
    "df.head()"
   ]
  },
  {
   "cell_type": "code",
   "execution_count": null,
   "id": "dbc3d422-44d1-4b3b-96a5-febc4b2cb009",
   "metadata": {},
   "outputs": [],
   "source": [
    "X = df.drop(\"selling_price\",axis=1) #axis=1 → columns , axis=0 → rows\n",
    "y = df[\"selling_price\"]"
   ]
  },
  {
   "cell_type": "code",
   "execution_count": null,
   "id": "2bca06b1-ee9b-44f7-86b8-2da9cf07f4cd",
   "metadata": {},
   "outputs": [],
   "source": [
    "X.shape"
   ]
  },
  {
   "cell_type": "code",
   "execution_count": null,
   "id": "8a3777f0-2dae-443d-ad94-ab2c8d1984ec",
   "metadata": {},
   "outputs": [],
   "source": [
    "y.shape"
   ]
  },
  {
   "cell_type": "code",
   "execution_count": null,
   "id": "5a73dd91-9b9c-4fc1-a2bf-2fb161a0ab77",
   "metadata": {},
   "outputs": [],
   "source": [
    "from sklearn.model_selection import train_test_split"
   ]
  },
  {
   "cell_type": "code",
   "execution_count": null,
   "id": "0480f301-d7af-4877-ac2b-5e4fa8028697",
   "metadata": {},
   "outputs": [],
   "source": [
    "X_train , X_test , y_train , y_test = train_test_split(X,y,test_size = 0.2 , random_state = 42)"
   ]
  },
  {
   "cell_type": "code",
   "execution_count": null,
   "id": "b7195055-e13e-4b46-8b26-d463d92cbbad",
   "metadata": {},
   "outputs": [],
   "source": [
    "X_train.shape"
   ]
  },
  {
   "cell_type": "code",
   "execution_count": null,
   "id": "3cc31f6d-2da5-44b6-8a59-db8da9e3c0a3",
   "metadata": {},
   "outputs": [],
   "source": [
    "X_test.shape"
   ]
  },
  {
   "cell_type": "code",
   "execution_count": null,
   "id": "850c8add-68bc-4559-8a90-564101481b64",
   "metadata": {},
   "outputs": [],
   "source": [
    "y_train.shape"
   ]
  },
  {
   "cell_type": "code",
   "execution_count": null,
   "id": "26e0ac4c-858c-416e-9022-0d4d55155878",
   "metadata": {},
   "outputs": [],
   "source": [
    "y_test.shape"
   ]
  },
  {
   "cell_type": "code",
   "execution_count": null,
   "id": "2813dddb-aa0c-44ed-9c29-a35790df6ff7",
   "metadata": {},
   "outputs": [],
   "source": [
    "X_train_df = pd.DataFrame(X_train , columns=[\"name\",\"year\",\"km_driven\"])"
   ]
  },
  {
   "cell_type": "code",
   "execution_count": null,
   "id": "0acd2746-4de5-4c3d-9694-54b83511030b",
   "metadata": {},
   "outputs": [],
   "source": [
    "print(X_train_df.to_string(index = False))"
   ]
  },
  {
   "cell_type": "markdown",
   "id": "ab70a58f-2bd6-40d3-b32f-006863d20265",
   "metadata": {},
   "source": []
  }
 ],
 "metadata": {
  "kernelspec": {
   "display_name": "Python 3 (ipykernel)",
   "language": "python",
   "name": "python3"
  },
  "language_info": {
   "codemirror_mode": {
    "name": "ipython",
    "version": 3
   },
   "file_extension": ".py",
   "mimetype": "text/x-python",
   "name": "python",
   "nbconvert_exporter": "python",
   "pygments_lexer": "ipython3",
   "version": "3.11.3"
  }
 },
 "nbformat": 4,
 "nbformat_minor": 5
}
