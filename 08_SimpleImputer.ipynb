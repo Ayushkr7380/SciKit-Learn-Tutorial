{
 "cells": [
  {
   "cell_type": "code",
   "execution_count": 1,
   "id": "bd5adb6f-2b58-4420-a748-4b2b8d13bdb6",
   "metadata": {},
   "outputs": [],
   "source": [
    "import numpy as np\n",
    "import pandas as pd"
   ]
  },
  {
   "cell_type": "code",
   "execution_count": 2,
   "id": "009f9dc4-a405-4e53-a5e2-5fa290eae424",
   "metadata": {},
   "outputs": [],
   "source": [
    "df = pd.read_csv(\"8_df.csv\")"
   ]
  },
  {
   "cell_type": "code",
   "execution_count": 3,
   "id": "b371c0f6-b720-439a-bf3d-f163d2406ec1",
   "metadata": {},
   "outputs": [
    {
     "data": {
      "text/html": [
       "<div>\n",
       "<style scoped>\n",
       "    .dataframe tbody tr th:only-of-type {\n",
       "        vertical-align: middle;\n",
       "    }\n",
       "\n",
       "    .dataframe tbody tr th {\n",
       "        vertical-align: top;\n",
       "    }\n",
       "\n",
       "    .dataframe thead th {\n",
       "        text-align: right;\n",
       "    }\n",
       "</style>\n",
       "<table border=\"1\" class=\"dataframe\">\n",
       "  <thead>\n",
       "    <tr style=\"text-align: right;\">\n",
       "      <th></th>\n",
       "      <th>Unnamed: 0</th>\n",
       "      <th>A</th>\n",
       "      <th>B</th>\n",
       "      <th>C</th>\n",
       "      <th>D</th>\n",
       "    </tr>\n",
       "  </thead>\n",
       "  <tbody>\n",
       "    <tr>\n",
       "      <th>0</th>\n",
       "      <td>0</td>\n",
       "      <td>1.0</td>\n",
       "      <td>NaN</td>\n",
       "      <td>1.0</td>\n",
       "      <td>1.0</td>\n",
       "    </tr>\n",
       "    <tr>\n",
       "      <th>1</th>\n",
       "      <td>1</td>\n",
       "      <td>2.0</td>\n",
       "      <td>2.0</td>\n",
       "      <td>2.0</td>\n",
       "      <td>2.0</td>\n",
       "    </tr>\n",
       "    <tr>\n",
       "      <th>2</th>\n",
       "      <td>2</td>\n",
       "      <td>3.0</td>\n",
       "      <td>3.0</td>\n",
       "      <td>NaN</td>\n",
       "      <td>3.0</td>\n",
       "    </tr>\n",
       "    <tr>\n",
       "      <th>3</th>\n",
       "      <td>3</td>\n",
       "      <td>NaN</td>\n",
       "      <td>2.0</td>\n",
       "      <td>4.0</td>\n",
       "      <td>4.0</td>\n",
       "    </tr>\n",
       "    <tr>\n",
       "      <th>4</th>\n",
       "      <td>4</td>\n",
       "      <td>5.0</td>\n",
       "      <td>5.0</td>\n",
       "      <td>5.0</td>\n",
       "      <td>NaN</td>\n",
       "    </tr>\n",
       "  </tbody>\n",
       "</table>\n",
       "</div>"
      ],
      "text/plain": [
       "   Unnamed: 0    A    B    C    D\n",
       "0           0  1.0  NaN  1.0  1.0\n",
       "1           1  2.0  2.0  2.0  2.0\n",
       "2           2  3.0  3.0  NaN  3.0\n",
       "3           3  NaN  2.0  4.0  4.0\n",
       "4           4  5.0  5.0  5.0  NaN"
      ]
     },
     "execution_count": 3,
     "metadata": {},
     "output_type": "execute_result"
    }
   ],
   "source": [
    "df.head()"
   ]
  },
  {
   "cell_type": "code",
   "execution_count": null,
   "id": "4c4c1cae-e79c-4286-bad6-b3fa2ef6f58b",
   "metadata": {},
   "outputs": [],
   "source": []
  },
  {
   "cell_type": "code",
   "execution_count": 4,
   "id": "69b390c5-8a4a-4960-ae99-fecd9b49db96",
   "metadata": {},
   "outputs": [
    {
     "data": {
      "text/plain": [
       "Unnamed: 0    0\n",
       "A             2\n",
       "B             2\n",
       "C             2\n",
       "D             1\n",
       "dtype: int64"
      ]
     },
     "execution_count": 4,
     "metadata": {},
     "output_type": "execute_result"
    }
   ],
   "source": [
    "df.isnull().sum()"
   ]
  },
  {
   "cell_type": "markdown",
   "id": "3a54dccc-04dc-49bd-8599-e1073dbbe351",
   "metadata": {},
   "source": [
    "# SimpleImputer\n",
    "\n",
    "## SimpleImputer is used when your dataset has missing values (NaN/null) and you want to fill them with some basic strategy.\n",
    "\n",
    "### You use it in these cases:\n",
    "\n",
    "#### 1.Numerical columns:\n",
    "\n",
    "##### Use strategy=\"mean\" → when you want to replace missing numbers with the average.\n",
    "\n",
    "##### Use strategy=\"median\" → when your data has outliers and mean is not reliable.\n",
    "\n",
    "#### 2.Categorical columns:\n",
    "\n",
    "##### Use strategy=\"most_frequent\" → when you want to fill missing categories with the most common value.\n",
    "\n",
    "##### Use strategy=\"constant\" → when you want to fill with a fixed value (like \"unknown\" for text or 0 for numbers)."
   ]
  },
  {
   "cell_type": "markdown",
   "id": "150d71ae-e072-46bd-aa69-8b4b39f6de28",
   "metadata": {},
   "source": [
    "## from sklearn.impute import SimpleImputer\n",
    "\n",
    "### 1. mean strategy\n",
    "#### imputer = SimpleImputer(strategy=\"mean\")\n",
    "\n",
    "### 2. median strategy\n",
    "#### imputer = SimpleImputer(strategy=\"median\")\n",
    "\n",
    "### 3. most frequent strategy\n",
    "#### imputer = SimpleImputer(strategy=\"most_frequent\")\n",
    "\n",
    "### 4. constant strategy\n",
    "##### imputer = SimpleImputer(strategy=\"constant\", fill_value=0)\n",
    "\n",
    "### If you don’t pass strategy in SimpleImputer, the default is \"mean\""
   ]
  },
  {
   "cell_type": "code",
   "execution_count": 5,
   "id": "2a27ce72-e9aa-4eb2-903b-033328dc676e",
   "metadata": {},
   "outputs": [],
   "source": [
    "from sklearn.impute import SimpleImputer"
   ]
  },
  {
   "cell_type": "code",
   "execution_count": 1,
   "id": "a861e480-b156-432c-a124-cfffa6f32502",
   "metadata": {},
   "outputs": [
    {
     "ename": "NameError",
     "evalue": "name 'SimpleImputer' is not defined",
     "output_type": "error",
     "traceback": [
      "\u001b[31m---------------------------------------------------------------------------\u001b[39m",
      "\u001b[31mNameError\u001b[39m                                 Traceback (most recent call last)",
      "\u001b[36mCell\u001b[39m\u001b[36m \u001b[39m\u001b[32mIn[1]\u001b[39m\u001b[32m, line 1\u001b[39m\n\u001b[32m----> \u001b[39m\u001b[32m1\u001b[39m simple_mean = \u001b[43mSimpleImputer\u001b[49m(strategy=\u001b[33m\"\u001b[39m\u001b[33mmost_frequent\u001b[39m\u001b[33m\"\u001b[39m)\n\u001b[32m      2\u001b[39m df[\u001b[33m\"\u001b[39m\u001b[33mB\u001b[39m\u001b[33m\"\u001b[39m] = simple_mean.fit_transform(df[[\u001b[33m\"\u001b[39m\u001b[33mB\u001b[39m\u001b[33m\"\u001b[39m]])\n",
      "\u001b[31mNameError\u001b[39m: name 'SimpleImputer' is not defined"
     ]
    }
   ],
   "source": [
    "simple_mean = SimpleImputer(strategy=\"most_frequent\")\n",
    "df[\"B\"] = simple_mean.fit_transform(df[[\"B\"]])"
   ]
  },
  {
   "cell_type": "code",
   "execution_count": 7,
   "id": "2c0b8001-c31e-4942-a816-921f78a8b07c",
   "metadata": {},
   "outputs": [
    {
     "data": {
      "text/html": [
       "<div>\n",
       "<style scoped>\n",
       "    .dataframe tbody tr th:only-of-type {\n",
       "        vertical-align: middle;\n",
       "    }\n",
       "\n",
       "    .dataframe tbody tr th {\n",
       "        vertical-align: top;\n",
       "    }\n",
       "\n",
       "    .dataframe thead th {\n",
       "        text-align: right;\n",
       "    }\n",
       "</style>\n",
       "<table border=\"1\" class=\"dataframe\">\n",
       "  <thead>\n",
       "    <tr style=\"text-align: right;\">\n",
       "      <th></th>\n",
       "      <th>Unnamed: 0</th>\n",
       "      <th>A</th>\n",
       "      <th>B</th>\n",
       "      <th>C</th>\n",
       "      <th>D</th>\n",
       "    </tr>\n",
       "  </thead>\n",
       "  <tbody>\n",
       "    <tr>\n",
       "      <th>0</th>\n",
       "      <td>0</td>\n",
       "      <td>1.0</td>\n",
       "      <td>3.0</td>\n",
       "      <td>1.0</td>\n",
       "      <td>1.0</td>\n",
       "    </tr>\n",
       "    <tr>\n",
       "      <th>1</th>\n",
       "      <td>1</td>\n",
       "      <td>2.0</td>\n",
       "      <td>2.0</td>\n",
       "      <td>2.0</td>\n",
       "      <td>2.0</td>\n",
       "    </tr>\n",
       "    <tr>\n",
       "      <th>2</th>\n",
       "      <td>2</td>\n",
       "      <td>3.0</td>\n",
       "      <td>3.0</td>\n",
       "      <td>NaN</td>\n",
       "      <td>3.0</td>\n",
       "    </tr>\n",
       "    <tr>\n",
       "      <th>3</th>\n",
       "      <td>3</td>\n",
       "      <td>NaN</td>\n",
       "      <td>2.0</td>\n",
       "      <td>4.0</td>\n",
       "      <td>4.0</td>\n",
       "    </tr>\n",
       "    <tr>\n",
       "      <th>4</th>\n",
       "      <td>4</td>\n",
       "      <td>5.0</td>\n",
       "      <td>5.0</td>\n",
       "      <td>5.0</td>\n",
       "      <td>NaN</td>\n",
       "    </tr>\n",
       "  </tbody>\n",
       "</table>\n",
       "</div>"
      ],
      "text/plain": [
       "   Unnamed: 0    A    B    C    D\n",
       "0           0  1.0  3.0  1.0  1.0\n",
       "1           1  2.0  2.0  2.0  2.0\n",
       "2           2  3.0  3.0  NaN  3.0\n",
       "3           3  NaN  2.0  4.0  4.0\n",
       "4           4  5.0  5.0  5.0  NaN"
      ]
     },
     "execution_count": 7,
     "metadata": {},
     "output_type": "execute_result"
    }
   ],
   "source": [
    "df.head()"
   ]
  },
  {
   "cell_type": "code",
   "execution_count": 8,
   "id": "f33af60b-c7dc-4e0f-8a03-acc4fb2d812e",
   "metadata": {},
   "outputs": [
    {
     "data": {
      "text/plain": [
       "Unnamed: 0    0\n",
       "A             2\n",
       "B             0\n",
       "C             2\n",
       "D             1\n",
       "dtype: int64"
      ]
     },
     "execution_count": 8,
     "metadata": {},
     "output_type": "execute_result"
    }
   ],
   "source": [
    "df.isnull().sum()"
   ]
  },
  {
   "cell_type": "code",
   "execution_count": null,
   "id": "90518198-d551-446b-b596-c1f1ca7b0dea",
   "metadata": {},
   "outputs": [],
   "source": []
  }
 ],
 "metadata": {
  "kernelspec": {
   "display_name": "Python (.venv)",
   "language": "python",
   "name": ".venv"
  },
  "language_info": {
   "codemirror_mode": {
    "name": "ipython",
    "version": 3
   },
   "file_extension": ".py",
   "mimetype": "text/x-python",
   "name": "python",
   "nbconvert_exporter": "python",
   "pygments_lexer": "ipython3",
   "version": "3.13.3"
  }
 },
 "nbformat": 4,
 "nbformat_minor": 5
}
