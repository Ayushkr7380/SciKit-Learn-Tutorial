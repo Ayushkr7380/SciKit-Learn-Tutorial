{
 "cells": [
  {
   "cell_type": "code",
   "execution_count": 34,
   "id": "31cb220c-67ce-4912-8182-bb0b568779ab",
   "metadata": {},
   "outputs": [],
   "source": [
    "import pandas as pd\n",
    "import numpy as np"
   ]
  },
  {
   "cell_type": "code",
   "execution_count": 35,
   "id": "55dd0456-aaf0-43e5-930b-00feb2ff49d1",
   "metadata": {},
   "outputs": [],
   "source": [
    "df = pd.read_csv(\"CAR_DETAILS_FROM_CAR_DEKHO.csv\" , usecols=[\"name\",\"seller_type\",\"transmission\",\"owner\",\"fuel\"])"
   ]
  },
  {
   "cell_type": "code",
   "execution_count": 36,
   "id": "a0caa399-f08d-42be-bb1c-7cb99ac28825",
   "metadata": {},
   "outputs": [
    {
     "data": {
      "text/html": [
       "<div>\n",
       "<style scoped>\n",
       "    .dataframe tbody tr th:only-of-type {\n",
       "        vertical-align: middle;\n",
       "    }\n",
       "\n",
       "    .dataframe tbody tr th {\n",
       "        vertical-align: top;\n",
       "    }\n",
       "\n",
       "    .dataframe thead th {\n",
       "        text-align: right;\n",
       "    }\n",
       "</style>\n",
       "<table border=\"1\" class=\"dataframe\">\n",
       "  <thead>\n",
       "    <tr style=\"text-align: right;\">\n",
       "      <th></th>\n",
       "      <th>name</th>\n",
       "      <th>fuel</th>\n",
       "      <th>seller_type</th>\n",
       "      <th>transmission</th>\n",
       "      <th>owner</th>\n",
       "    </tr>\n",
       "  </thead>\n",
       "  <tbody>\n",
       "    <tr>\n",
       "      <th>0</th>\n",
       "      <td>Maruti 800 AC</td>\n",
       "      <td>Petrol</td>\n",
       "      <td>Individual</td>\n",
       "      <td>Manual</td>\n",
       "      <td>First Owner</td>\n",
       "    </tr>\n",
       "    <tr>\n",
       "      <th>1</th>\n",
       "      <td>Maruti Wagon R LXI Minor</td>\n",
       "      <td>Petrol</td>\n",
       "      <td>Individual</td>\n",
       "      <td>Manual</td>\n",
       "      <td>First Owner</td>\n",
       "    </tr>\n",
       "    <tr>\n",
       "      <th>2</th>\n",
       "      <td>Hyundai Verna 1.6 SX</td>\n",
       "      <td>Diesel</td>\n",
       "      <td>Individual</td>\n",
       "      <td>Manual</td>\n",
       "      <td>First Owner</td>\n",
       "    </tr>\n",
       "    <tr>\n",
       "      <th>3</th>\n",
       "      <td>Datsun RediGO T Option</td>\n",
       "      <td>Petrol</td>\n",
       "      <td>Individual</td>\n",
       "      <td>Manual</td>\n",
       "      <td>First Owner</td>\n",
       "    </tr>\n",
       "    <tr>\n",
       "      <th>4</th>\n",
       "      <td>Honda Amaze VX i-DTEC</td>\n",
       "      <td>Diesel</td>\n",
       "      <td>Individual</td>\n",
       "      <td>Manual</td>\n",
       "      <td>Second Owner</td>\n",
       "    </tr>\n",
       "  </tbody>\n",
       "</table>\n",
       "</div>"
      ],
      "text/plain": [
       "                       name    fuel seller_type transmission         owner\n",
       "0             Maruti 800 AC  Petrol  Individual       Manual   First Owner\n",
       "1  Maruti Wagon R LXI Minor  Petrol  Individual       Manual   First Owner\n",
       "2      Hyundai Verna 1.6 SX  Diesel  Individual       Manual   First Owner\n",
       "3    Datsun RediGO T Option  Petrol  Individual       Manual   First Owner\n",
       "4     Honda Amaze VX i-DTEC  Diesel  Individual       Manual  Second Owner"
      ]
     },
     "execution_count": 36,
     "metadata": {},
     "output_type": "execute_result"
    }
   ],
   "source": [
    "df.head()"
   ]
  },
  {
   "cell_type": "markdown",
   "id": "c24e5658-4051-47af-a4d1-66d63528d0f4",
   "metadata": {},
   "source": [
    "# Categorical Data\n",
    "\n",
    "### Categorical data means data that represents categories (groups/labels) instead of numbers.\n",
    "\n",
    "### Examples:\n",
    "\n",
    "#### Fuel type → Petrol, Diesel, CNG, Electric\n",
    "#### Pen type → Gel, Ballpoint, Fountain\n",
    "#### Transmission → Manual, Automatic\n",
    "#### Owner → First, Second, Third\n",
    "\n",
    "### Types of categorical data:\n",
    "\n",
    "#### Nominal (no order) → e.g., Fuel (Petrol, Diesel, CNG)\n",
    "#### Ordinal (with order) → e.g., Owner (First, Second, Third)\n",
    "\n",
    "# OrdinalEncoder\n",
    "\n",
    "### Where it is used?\n",
    "#### For input features (X) that are categorical.\n",
    "\n",
    "### What it does?\n",
    "#### Converts each category into a unique number.\n",
    "\n",
    "#### Example: Transmission → {Manual: 0, Automatic: 1}\n",
    "#### Owner → {First: 0, Second: 1, Third: 2}\n",
    "\n",
    "#### Note: Used on multiple columns of input features.\n",
    "\n",
    "# LabelEncoder\n",
    "\n",
    "### Where it is used?\n",
    "#### Mostly for the target variable (y) that is categorical.\n",
    "\n",
    "### What it does?\n",
    "#### Converts target categories into numbers.\n",
    "\n",
    "#### Example: Fuel → {Petrol: 0, Diesel: 1, CNG: 2, Electric: 3}\n",
    "\n",
    "#### Note: Applied on a single column (the output/label)."
   ]
  },
  {
   "cell_type": "markdown",
   "id": "90bb44b5-9106-4b79-87ff-f84503e17e8c",
   "metadata": {},
   "source": [
    "# Convert Categories into number using Python"
   ]
  },
  {
   "cell_type": "code",
   "execution_count": 37,
   "id": "e9c81faa-51e1-4e75-85ae-74f4a413a483",
   "metadata": {},
   "outputs": [],
   "source": [
    "df.drop(\"name\",axis = 1 , inplace = True)"
   ]
  },
  {
   "cell_type": "code",
   "execution_count": 23,
   "id": "3a1ef11a-e801-45b5-bc20-391b73e1b234",
   "metadata": {},
   "outputs": [],
   "source": [
    "# df.head()"
   ]
  },
  {
   "cell_type": "code",
   "execution_count": 24,
   "id": "f0e82f47-81ab-4a4f-a5ee-1474f4b4953f",
   "metadata": {},
   "outputs": [],
   "source": [
    "# df['seller_type'].unique()"
   ]
  },
  {
   "cell_type": "code",
   "execution_count": 25,
   "id": "6d3620e8-a3b3-4488-bd4b-efcb684698c6",
   "metadata": {},
   "outputs": [],
   "source": [
    "# df[\"seller_type\"].value_counts()"
   ]
  },
  {
   "cell_type": "code",
   "execution_count": 26,
   "id": "8017fafa-624c-49d3-aabe-366cd7351865",
   "metadata": {},
   "outputs": [],
   "source": [
    "# df[\"seller_type\"] = df[\"seller_type\"].map({\"Individual\":0,\"Dealer\":1,\"Trustmark Dealer\":2})"
   ]
  },
  {
   "cell_type": "code",
   "execution_count": 27,
   "id": "06570956-5f37-4ba4-aec3-b0f1e5cc3672",
   "metadata": {},
   "outputs": [],
   "source": [
    "# df.head()"
   ]
  },
  {
   "cell_type": "code",
   "execution_count": 28,
   "id": "24f90f5f-25a2-49b8-9927-f4f0d772e967",
   "metadata": {},
   "outputs": [],
   "source": [
    "# df.sample(5) #Random 5 rows"
   ]
  },
  {
   "cell_type": "code",
   "execution_count": 29,
   "id": "662edf33-5504-4432-be9f-1ce28c842e68",
   "metadata": {},
   "outputs": [],
   "source": [
    "# df[\"tansmission\"] = df[\"transmission\"].apply(lambda x : 1 if x == \"Manual\" else 0)"
   ]
  },
  {
   "cell_type": "code",
   "execution_count": 30,
   "id": "ded42737-531f-47d4-a321-581f7043e5c9",
   "metadata": {},
   "outputs": [],
   "source": [
    "# df.sample(5)"
   ]
  },
  {
   "cell_type": "code",
   "execution_count": 38,
   "id": "9157ce70-e4bd-4432-ba46-a2bf4b4a4fd1",
   "metadata": {},
   "outputs": [
    {
     "data": {
      "text/html": [
       "<div>\n",
       "<style scoped>\n",
       "    .dataframe tbody tr th:only-of-type {\n",
       "        vertical-align: middle;\n",
       "    }\n",
       "\n",
       "    .dataframe tbody tr th {\n",
       "        vertical-align: top;\n",
       "    }\n",
       "\n",
       "    .dataframe thead th {\n",
       "        text-align: right;\n",
       "    }\n",
       "</style>\n",
       "<table border=\"1\" class=\"dataframe\">\n",
       "  <thead>\n",
       "    <tr style=\"text-align: right;\">\n",
       "      <th></th>\n",
       "      <th>fuel</th>\n",
       "      <th>seller_type</th>\n",
       "      <th>transmission</th>\n",
       "      <th>owner</th>\n",
       "    </tr>\n",
       "  </thead>\n",
       "  <tbody>\n",
       "    <tr>\n",
       "      <th>0</th>\n",
       "      <td>Petrol</td>\n",
       "      <td>Individual</td>\n",
       "      <td>Manual</td>\n",
       "      <td>First Owner</td>\n",
       "    </tr>\n",
       "    <tr>\n",
       "      <th>1</th>\n",
       "      <td>Petrol</td>\n",
       "      <td>Individual</td>\n",
       "      <td>Manual</td>\n",
       "      <td>First Owner</td>\n",
       "    </tr>\n",
       "    <tr>\n",
       "      <th>2</th>\n",
       "      <td>Diesel</td>\n",
       "      <td>Individual</td>\n",
       "      <td>Manual</td>\n",
       "      <td>First Owner</td>\n",
       "    </tr>\n",
       "    <tr>\n",
       "      <th>3</th>\n",
       "      <td>Petrol</td>\n",
       "      <td>Individual</td>\n",
       "      <td>Manual</td>\n",
       "      <td>First Owner</td>\n",
       "    </tr>\n",
       "    <tr>\n",
       "      <th>4</th>\n",
       "      <td>Diesel</td>\n",
       "      <td>Individual</td>\n",
       "      <td>Manual</td>\n",
       "      <td>Second Owner</td>\n",
       "    </tr>\n",
       "  </tbody>\n",
       "</table>\n",
       "</div>"
      ],
      "text/plain": [
       "     fuel seller_type transmission         owner\n",
       "0  Petrol  Individual       Manual   First Owner\n",
       "1  Petrol  Individual       Manual   First Owner\n",
       "2  Diesel  Individual       Manual   First Owner\n",
       "3  Petrol  Individual       Manual   First Owner\n",
       "4  Diesel  Individual       Manual  Second Owner"
      ]
     },
     "execution_count": 38,
     "metadata": {},
     "output_type": "execute_result"
    }
   ],
   "source": [
    "df.head()"
   ]
  },
  {
   "cell_type": "markdown",
   "id": "05898199-b0a2-45c5-8348-f57a96684fec",
   "metadata": {},
   "source": [
    "# Using Scikitlearn"
   ]
  },
  {
   "cell_type": "code",
   "execution_count": 40,
   "id": "481b7f38-ab0b-47d1-b277-d0c41f9bc4eb",
   "metadata": {},
   "outputs": [],
   "source": [
    "from sklearn.model_selection import train_test_split"
   ]
  },
  {
   "cell_type": "code",
   "execution_count": 41,
   "id": "f3a17716-eb7d-4282-8e1e-4951c5f802e0",
   "metadata": {},
   "outputs": [],
   "source": [
    "X = df.drop(\"fuel\" , axis = 1)\n",
    "y = df[\"fuel\"]\n",
    "\n",
    "X_train , X_test , y_train , y_test = train_test_split(X,y,test_size = 0.2 , random_state = 42)"
   ]
  },
  {
   "cell_type": "code",
   "execution_count": 42,
   "id": "098fa3a8-d9de-4e23-879a-34dc10d267c8",
   "metadata": {},
   "outputs": [],
   "source": [
    "from sklearn.preprocessing import LabelEncoder , OrdinalEncoder"
   ]
  },
  {
   "cell_type": "markdown",
   "id": "b4780507-16f1-420a-8be8-10b81ba14160",
   "metadata": {},
   "source": [
    "# Apply LabelEncoder"
   ]
  },
  {
   "cell_type": "code",
   "execution_count": 66,
   "id": "ef9cd1b2-465b-481d-9ff3-00c12514e324",
   "metadata": {},
   "outputs": [],
   "source": [
    "le = LabelEncoder()"
   ]
  },
  {
   "cell_type": "code",
   "execution_count": 74,
   "id": "e9713994-a823-4934-ac73-d065f6ae3708",
   "metadata": {},
   "outputs": [],
   "source": [
    "y_train_traf = le.fit_transform(y_train)\n",
    "y_test_traf = le.transform(y_test)"
   ]
  },
  {
   "cell_type": "code",
   "execution_count": 75,
   "id": "712c9a7f-7215-4700-b158-5871407035ff",
   "metadata": {},
   "outputs": [
    {
     "data": {
      "text/plain": [
       "array([1, 1, 4, ..., 1, 1, 4])"
      ]
     },
     "execution_count": 75,
     "metadata": {},
     "output_type": "execute_result"
    }
   ],
   "source": [
    "y_train_traf"
   ]
  },
  {
   "cell_type": "code",
   "execution_count": 76,
   "id": "c474645c-9ae0-42ed-9c82-3e8b0bab3cae",
   "metadata": {},
   "outputs": [],
   "source": [
    "# y_train_traf  = pd.DataFrame(data = y_train_traf , columns = [\"Fuel\"]) \n",
    "\n",
    "y_train_traf  = pd.DataFrame(data = y_train_traf , columns = [y_train.name]) "
   ]
  },
  {
   "cell_type": "code",
   "execution_count": 77,
   "id": "295f1b7a-7bf9-433f-bd39-ca842880fe5d",
   "metadata": {},
   "outputs": [
    {
     "data": {
      "text/html": [
       "<div>\n",
       "<style scoped>\n",
       "    .dataframe tbody tr th:only-of-type {\n",
       "        vertical-align: middle;\n",
       "    }\n",
       "\n",
       "    .dataframe tbody tr th {\n",
       "        vertical-align: top;\n",
       "    }\n",
       "\n",
       "    .dataframe thead th {\n",
       "        text-align: right;\n",
       "    }\n",
       "</style>\n",
       "<table border=\"1\" class=\"dataframe\">\n",
       "  <thead>\n",
       "    <tr style=\"text-align: right;\">\n",
       "      <th></th>\n",
       "      <th>fuel</th>\n",
       "    </tr>\n",
       "  </thead>\n",
       "  <tbody>\n",
       "    <tr>\n",
       "      <th>0</th>\n",
       "      <td>1</td>\n",
       "    </tr>\n",
       "    <tr>\n",
       "      <th>1</th>\n",
       "      <td>1</td>\n",
       "    </tr>\n",
       "    <tr>\n",
       "      <th>2</th>\n",
       "      <td>4</td>\n",
       "    </tr>\n",
       "    <tr>\n",
       "      <th>3</th>\n",
       "      <td>1</td>\n",
       "    </tr>\n",
       "    <tr>\n",
       "      <th>4</th>\n",
       "      <td>1</td>\n",
       "    </tr>\n",
       "    <tr>\n",
       "      <th>...</th>\n",
       "      <td>...</td>\n",
       "    </tr>\n",
       "    <tr>\n",
       "      <th>3467</th>\n",
       "      <td>1</td>\n",
       "    </tr>\n",
       "    <tr>\n",
       "      <th>3468</th>\n",
       "      <td>1</td>\n",
       "    </tr>\n",
       "    <tr>\n",
       "      <th>3469</th>\n",
       "      <td>1</td>\n",
       "    </tr>\n",
       "    <tr>\n",
       "      <th>3470</th>\n",
       "      <td>1</td>\n",
       "    </tr>\n",
       "    <tr>\n",
       "      <th>3471</th>\n",
       "      <td>4</td>\n",
       "    </tr>\n",
       "  </tbody>\n",
       "</table>\n",
       "<p>3472 rows × 1 columns</p>\n",
       "</div>"
      ],
      "text/plain": [
       "      fuel\n",
       "0        1\n",
       "1        1\n",
       "2        4\n",
       "3        1\n",
       "4        1\n",
       "...    ...\n",
       "3467     1\n",
       "3468     1\n",
       "3469     1\n",
       "3470     1\n",
       "3471     4\n",
       "\n",
       "[3472 rows x 1 columns]"
      ]
     },
     "execution_count": 77,
     "metadata": {},
     "output_type": "execute_result"
    }
   ],
   "source": [
    "y_train_traf"
   ]
  },
  {
   "cell_type": "markdown",
   "id": "c8b44543-78e2-447e-b488-d1a07d06691b",
   "metadata": {},
   "source": [
    "# Applying OrdinalEncoder"
   ]
  },
  {
   "cell_type": "code",
   "execution_count": 71,
   "id": "bfeea368-656a-403e-b178-49f6e6a767fa",
   "metadata": {},
   "outputs": [],
   "source": [
    "oe = OrdinalEncoder()\n",
    "\n",
    "X_train_traf = oe.fit_transform(X_train)\n",
    "X_test_traf = oe.transform(X_test)"
   ]
  },
  {
   "cell_type": "code",
   "execution_count": 73,
   "id": "325f9582-16d4-48f7-bf99-c34e8bf296b9",
   "metadata": {},
   "outputs": [
    {
     "data": {
      "text/html": [
       "<div>\n",
       "<style scoped>\n",
       "    .dataframe tbody tr th:only-of-type {\n",
       "        vertical-align: middle;\n",
       "    }\n",
       "\n",
       "    .dataframe tbody tr th {\n",
       "        vertical-align: top;\n",
       "    }\n",
       "\n",
       "    .dataframe thead th {\n",
       "        text-align: right;\n",
       "    }\n",
       "</style>\n",
       "<table border=\"1\" class=\"dataframe\">\n",
       "  <thead>\n",
       "    <tr style=\"text-align: right;\">\n",
       "      <th></th>\n",
       "      <th>seller_type</th>\n",
       "      <th>transmission</th>\n",
       "      <th>owner</th>\n",
       "    </tr>\n",
       "  </thead>\n",
       "  <tbody>\n",
       "    <tr>\n",
       "      <th>227</th>\n",
       "      <td>Individual</td>\n",
       "      <td>Manual</td>\n",
       "      <td>First Owner</td>\n",
       "    </tr>\n",
       "    <tr>\n",
       "      <th>964</th>\n",
       "      <td>Individual</td>\n",
       "      <td>Manual</td>\n",
       "      <td>First Owner</td>\n",
       "    </tr>\n",
       "    <tr>\n",
       "      <th>2045</th>\n",
       "      <td>Individual</td>\n",
       "      <td>Manual</td>\n",
       "      <td>Second Owner</td>\n",
       "    </tr>\n",
       "  </tbody>\n",
       "</table>\n",
       "</div>"
      ],
      "text/plain": [
       "     seller_type transmission         owner\n",
       "227   Individual       Manual   First Owner\n",
       "964   Individual       Manual   First Owner\n",
       "2045  Individual       Manual  Second Owner"
      ]
     },
     "execution_count": 73,
     "metadata": {},
     "output_type": "execute_result"
    }
   ],
   "source": [
    "X_train.head(3)"
   ]
  },
  {
   "cell_type": "code",
   "execution_count": 78,
   "id": "cfd77bfc-e0b1-485e-aef2-ef7ff12cd4bc",
   "metadata": {},
   "outputs": [
    {
     "data": {
      "text/plain": [
       "array([[1., 1., 0.],\n",
       "       [1., 1., 0.],\n",
       "       [1., 1., 2.],\n",
       "       ...,\n",
       "       [0., 1., 0.],\n",
       "       [1., 1., 0.],\n",
       "       [1., 1., 0.]])"
      ]
     },
     "execution_count": 78,
     "metadata": {},
     "output_type": "execute_result"
    }
   ],
   "source": [
    "X_train_traf"
   ]
  },
  {
   "cell_type": "code",
   "execution_count": 79,
   "id": "246d62a7-6e53-484a-9272-0dbccfd3e63d",
   "metadata": {},
   "outputs": [],
   "source": [
    "X_train_traf = pd.DataFrame(data = X_train_traf , columns = X_train.columns)"
   ]
  },
  {
   "cell_type": "code",
   "execution_count": 81,
   "id": "ea18f8f1-62ec-4471-b8c0-9de557d00b2e",
   "metadata": {},
   "outputs": [
    {
     "data": {
      "text/html": [
       "<div>\n",
       "<style scoped>\n",
       "    .dataframe tbody tr th:only-of-type {\n",
       "        vertical-align: middle;\n",
       "    }\n",
       "\n",
       "    .dataframe tbody tr th {\n",
       "        vertical-align: top;\n",
       "    }\n",
       "\n",
       "    .dataframe thead th {\n",
       "        text-align: right;\n",
       "    }\n",
       "</style>\n",
       "<table border=\"1\" class=\"dataframe\">\n",
       "  <thead>\n",
       "    <tr style=\"text-align: right;\">\n",
       "      <th></th>\n",
       "      <th>seller_type</th>\n",
       "      <th>transmission</th>\n",
       "      <th>owner</th>\n",
       "    </tr>\n",
       "  </thead>\n",
       "  <tbody>\n",
       "    <tr>\n",
       "      <th>0</th>\n",
       "      <td>1.0</td>\n",
       "      <td>1.0</td>\n",
       "      <td>0.0</td>\n",
       "    </tr>\n",
       "    <tr>\n",
       "      <th>1</th>\n",
       "      <td>1.0</td>\n",
       "      <td>1.0</td>\n",
       "      <td>0.0</td>\n",
       "    </tr>\n",
       "    <tr>\n",
       "      <th>2</th>\n",
       "      <td>1.0</td>\n",
       "      <td>1.0</td>\n",
       "      <td>2.0</td>\n",
       "    </tr>\n",
       "  </tbody>\n",
       "</table>\n",
       "</div>"
      ],
      "text/plain": [
       "   seller_type  transmission  owner\n",
       "0          1.0           1.0    0.0\n",
       "1          1.0           1.0    0.0\n",
       "2          1.0           1.0    2.0"
      ]
     },
     "execution_count": 81,
     "metadata": {},
     "output_type": "execute_result"
    }
   ],
   "source": [
    "X_train_traf.head(3)"
   ]
  },
  {
   "cell_type": "code",
   "execution_count": null,
   "id": "ad7cc9eb-a92a-4724-8d62-89e32acace6c",
   "metadata": {},
   "outputs": [],
   "source": []
  }
 ],
 "metadata": {
  "kernelspec": {
   "display_name": "Python 3 (ipykernel)",
   "language": "python",
   "name": "python3"
  },
  "language_info": {
   "codemirror_mode": {
    "name": "ipython",
    "version": 3
   },
   "file_extension": ".py",
   "mimetype": "text/x-python",
   "name": "python",
   "nbconvert_exporter": "python",
   "pygments_lexer": "ipython3",
   "version": "3.11.3"
  }
 },
 "nbformat": 4,
 "nbformat_minor": 5
}
